{
 "cells": [
  {
   "cell_type": "code",
   "execution_count": 2,
   "id": "0843ecd9",
   "metadata": {},
   "outputs": [],
   "source": [
    "from typing import TypedDict\n",
    "class State(TypedDict):\n",
    "    graph_state: str"
   ]
  },
  {
   "cell_type": "code",
   "execution_count": 3,
   "id": "b735ca6b",
   "metadata": {},
   "outputs": [],
   "source": [
    "# Valid - follows the TypedDict definition\n",
    "state: State = {\"graph_state\": \"initial\"}\n"
   ]
  },
  {
   "cell_type": "code",
   "execution_count": 5,
   "id": "78a864f6",
   "metadata": {},
   "outputs": [],
   "source": [
    "state2: State = {\"graph_state\": 123}"
   ]
  },
  {
   "cell_type": "code",
   "execution_count": null,
   "id": "e9955533",
   "metadata": {},
   "outputs": [],
   "source": []
  }
 ],
 "metadata": {
  "kernelspec": {
   "display_name": "lc-academy-env-3.11",
   "language": "python",
   "name": "python3"
  },
  "language_info": {
   "codemirror_mode": {
    "name": "ipython",
    "version": 3
   },
   "file_extension": ".py",
   "mimetype": "text/x-python",
   "name": "python",
   "nbconvert_exporter": "python",
   "pygments_lexer": "ipython3",
   "version": "3.11.13"
  }
 },
 "nbformat": 4,
 "nbformat_minor": 5
}
